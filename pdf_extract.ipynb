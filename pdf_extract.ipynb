{
 "cells": [
  {
   "cell_type": "code",
   "execution_count": 1,
   "id": "014f9a74",
   "metadata": {},
   "outputs": [
    {
     "name": "stdout",
     "output_type": "stream",
     "text": [
      "✅ Text saved to output.txt\n"
     ]
    }
   ],
   "source": [
    "import fitz  # PyMuPDF\n",
    "from PIL import Image\n",
    "import pytesseract\n",
    "import io\n",
    "\n",
    "# Set Tesseract path\n",
    "pytesseract.pytesseract.tesseract_cmd = r\"C:\\Program Files\\Tesseract-OCR\\tesseract.exe\"\n",
    "\n",
    "def extract_text_from_pdf_pymupdf(pdf_path, lang=\"eng+ben\"):\n",
    "    doc = fitz.open(pdf_path)\n",
    "    all_text = \"\"\n",
    "\n",
    "    for i, page in enumerate(doc):\n",
    "        pix = page.get_pixmap(dpi=300)\n",
    "        img = Image.open(io.BytesIO(pix.tobytes()))\n",
    "        text = pytesseract.image_to_string(img, lang=lang)\n",
    "        all_text += f\"\\n--- Page {i+1} ---\\n{text}\\n\"\n",
    "\n",
    "    with open(\"output.txt\", \"w\", encoding=\"utf-8\") as f:\n",
    "        f.write(all_text)\n",
    "\n",
    "    print(\"✅ Text saved to output.txt\")\n",
    "\n",
    "# Example usage\n",
    "extract_text_from_pdf_pymupdf(\"HSC26-Bangla1st-Paper.pdf\")\n"
   ]
  },
  {
   "cell_type": "code",
   "execution_count": 2,
   "id": "c1ac447d",
   "metadata": {},
   "outputs": [],
   "source": [
    "import torch\n",
    "from transformers import AutoModel, AutoTokenizer, AutoConfig\n",
    "import os\n",
    "import shutil\n",
    "\n",
    "class JinaEmbedding:\n",
    "    def __init__(self, model_path=\"jina-embeddings-v3\"):\n",
    "        self.model_path = model_path\n",
    "        \n",
    "        # Verify PyTorch version\n",
    "        if not hasattr(torch, 'compiler'):\n",
    "            raise RuntimeError(\n",
    "                \"Jina embeddings require PyTorch 2.2+ with compiler support.\\n\"\n",
    "                \"Please upgrade with: pip install --upgrade torch torchvision torchaudio\"\n",
    "            )\n",
    "\n",
    "        # First-time setup: download if directory doesn't exist or is incomplete\n",
    "        if not os.path.exists(os.path.join(self.model_path, \"config.json\")):\n",
    "            os.makedirs(self.model_path, exist_ok=True)\n",
    "            print(\"Downloading Jina model...\")\n",
    "            try:\n",
    "                model = AutoModel.from_pretrained(\n",
    "                    \"jinaai/jina-embeddings-v3\",\n",
    "                    trust_remote_code=True\n",
    "                )\n",
    "                model.save_pretrained(self.model_path)\n",
    "                tokenizer = AutoTokenizer.from_pretrained(\"jinaai/jina-embeddings-v3\")\n",
    "                tokenizer.save_pretrained(self.model_path)\n",
    "            except Exception as e:\n",
    "                shutil.rmtree(self.model_path)\n",
    "                raise RuntimeError(f\"Model download failed: {e}\")\n",
    "\n",
    "    def jina(self):\n",
    "        if hasattr(torch.backends, \"disable_math_sdp\"):\n",
    "            torch.backends.disable_math_sdp = True\n",
    "        \n",
    "        tokenizer = AutoTokenizer.from_pretrained(\n",
    "            self.model_path,\n",
    "            trust_remote_code=True\n",
    "        )\n",
    "        embedding_model = AutoModel.from_pretrained(\n",
    "            self.model_path,\n",
    "            trust_remote_code=True,\n",
    "            torch_dtype=torch.float16\n",
    "        )\n",
    "        device = torch.device(\"cuda\" if torch.cuda.is_available() else \"cpu\")\n",
    "        embedding_model.to(device)\n",
    "        return tokenizer, embedding_model, device\n",
    "    \n"
   ]
  },
  {
   "cell_type": "code",
   "execution_count": 3,
   "id": "a0cbbfd7",
   "metadata": {},
   "outputs": [
    {
     "name": "stderr",
     "output_type": "stream",
     "text": [
      "Flash attention implementation does not support kwargs: task\n"
     ]
    },
    {
     "name": "stdout",
     "output_type": "stream",
     "text": [
      "✅ Embeddings saved to output_embeddings.pt\n"
     ]
    }
   ],
   "source": [
    "def read_and_split_text(file_path, max_chunk_length=512):\n",
    "    with open(file_path, 'r', encoding='utf-8') as f:\n",
    "        text = f.read().strip()\n",
    "    return [text[i:i+max_chunk_length] for i in range(0, len(text), max_chunk_length)]\n",
    "\n",
    "\n",
    "def embed_text_file(file_path=\"output.txt\", model_dir=\"jina-embeddings-v3\", task=\"text-matching\"):\n",
    "    # Load texts from file\n",
    "    texts = read_and_split_text(file_path)\n",
    "\n",
    "    # Initialize Jina model\n",
    "    jina_model = JinaEmbedding(model_path=model_dir)\n",
    "    tokenizer, model, device = jina_model.jina()\n",
    "\n",
    "    # Tokenize texts\n",
    "    inputs = tokenizer(texts, padding=True, truncation=True, return_tensors=\"pt\").to(device)\n",
    "\n",
    "    # Get embeddings\n",
    "    with torch.no_grad():\n",
    "        outputs = model(**inputs, task=task)\n",
    "        embeddings = outputs.last_hidden_state[:, 0]  # CLS token\n",
    "\n",
    "    # Save embeddings\n",
    "    torch.save(embeddings.cpu(), \"output_embeddings.pt\")\n",
    "    print(\"✅ Embeddings saved to output_embeddings.pt\")\n",
    "\n",
    "\n",
    "# Run it\n",
    "embed_text_file()\n"
   ]
  }
 ],
 "metadata": {
  "kernelspec": {
   "display_name": "10ms",
   "language": "python",
   "name": "python3"
  },
  "language_info": {
   "codemirror_mode": {
    "name": "ipython",
    "version": 3
   },
   "file_extension": ".py",
   "mimetype": "text/x-python",
   "name": "python",
   "nbconvert_exporter": "python",
   "pygments_lexer": "ipython3",
   "version": "3.12.1"
  }
 },
 "nbformat": 4,
 "nbformat_minor": 5
}
